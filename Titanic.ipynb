{
 "cells": [
  {
   "cell_type": "code",
   "execution_count": 1,
   "metadata": {
    "_cell_guid": "9c535216-4500-4a8f-ab35-fc8bf4429a72",
    "_uuid": "877eb88b-d8e8-425a-8f0d-aefef254c728"
   },
   "outputs": [],
   "source": [
    "import numpy as np # linear algebra\n",
    "import pandas as pd # data processing, CSV file I/O (e.g. pd.read_csv)\n",
    "from sklearn.preprocessing import OneHotEncoder\n",
    "from sklearn.compose import ColumnTransformer\n",
    "from sklearn.impute import SimpleImputer\n",
    "from sklearn.pipeline import Pipeline\n",
    "from sklearn.model_selection import train_test_split\n",
    "from sklearn.model_selection import GridSearchCV\n",
    "from sklearn.model_selection import cross_val_score\n",
    "from sklearn.preprocessing import StandardScaler"
   ]
  },
  {
   "cell_type": "code",
   "execution_count": 2,
   "metadata": {},
   "outputs": [],
   "source": [
    "#load train and test dataset\n",
    "train = pd.read_csv(\"data/train.csv\")\n",
    "submission = pd.read_csv(\"data/test.csv\")"
   ]
  },
  {
   "cell_type": "code",
   "execution_count": 3,
   "metadata": {},
   "outputs": [],
   "source": [
    "#modify df\n",
    "def clean_df(df):\n",
    "    #transform names\n",
    "    df[\"Title\"] = df[\"Name\"].str.extract('([A-Z][a-z]+\\.)')\n",
    "    \n",
    "    #drop column\n",
    "    df.drop([\"Name\",\"Cabin\",\"Ticket\"],axis=1,inplace=True)\n",
    "    return df\n",
    "\n",
    "train_cleaned = clean_df(train)\n",
    "submission_cleaned = clean_df(submission)"
   ]
  },
  {
   "cell_type": "code",
   "execution_count": 4,
   "metadata": {},
   "outputs": [],
   "source": [
    "#column transformer\n",
    "imp = SimpleImputer(missing_values=np.nan, strategy='most_frequent', copy=False)\n",
    "enc = OneHotEncoder(handle_unknown='ignore')\n",
    "cat_pipe = Pipeline([(\"Impute\", imp),(\"Encode\", enc)])\n",
    "\n",
    "scaler = StandardScaler()\n",
    "imp_num = SimpleImputer(missing_values=np.nan, strategy='median', copy=False)\n",
    "num_pipe = Pipeline( [(\"Impute\",imp_num), (\"Scale\", scaler)] )\n",
    "\n",
    "ct = ColumnTransformer([(\"Categorical\", cat_pipe, [\"Sex\",\"Embarked\",\"Title\"]),\n",
    "                       (\"Numeric\", num_pipe, [\"PassengerId\", \"Pclass\",\"Age\",\"SibSp\",\"Parch\",\"Fare\"])], \n",
    "                       remainder='drop')"
   ]
  },
  {
   "cell_type": "code",
   "execution_count": 5,
   "metadata": {},
   "outputs": [],
   "source": [
    "#create training and validation set\n",
    "train_x, test_x, train_y, test_y = train_test_split(train_cleaned.drop(\"Survived\",axis=1), \n",
    "                                                    train_cleaned[\"Survived\"],\n",
    "                                                 test_size=0.2, random_state=1)"
   ]
  },
  {
   "cell_type": "code",
   "execution_count": 45,
   "metadata": {},
   "outputs": [],
   "source": [
    "#import models\n",
    "from sklearn.ensemble import RandomForestClassifier, AdaBoostClassifier\n",
    "from sklearn.neural_network import MLPClassifier\n",
    "from sklearn.naive_bayes import GaussianNB\n",
    "from sklearn.neighbors import KNeighborsClassifier\n",
    "from sklearn.linear_model import LogisticRegression, SGDClassifier, RidgeClassifier, Perceptron\n",
    "from sklearn.linear_model import PassiveAggressiveClassifier\n",
    "from sklearn.svm import SVC\n",
    "from sklearn.gaussian_process import GaussianProcessClassifier\n",
    "from sklearn.gaussian_process.kernels import RBF\n",
    "from sklearn.discriminant_analysis import QuadraticDiscriminantAnalysis\n",
    "from sklearn.tree import DecisionTreeClassifier\n",
    "\n",
    "lr = LogisticRegression(random_state=0, solver='lbfgs')\n",
    "rf = RandomForestClassifier(random_state=0, n_estimators=100)\n",
    "mlp = MLPClassifier(random_state=0)\n",
    "nb = GaussianNB()\n",
    "knn = KNeighborsClassifier()\n",
    "sgd = SGDClassifier(random_state=0)\n",
    "svc = SVC(gamma=\"auto\", random_state=0)\n",
    "ridge = RidgeClassifier(random_state=0)\n",
    "percep = Perceptron(random_state=0)\n",
    "passive = PassiveAggressiveClassifier(random_state=0)\n",
    "ada = AdaBoostClassifier(random_state=0)\n",
    "process = GaussianProcessClassifier(random_state=0)\n",
    "qda = QuadraticDiscriminantAnalysis()\n",
    "tree = DecisionTreeClassifier(random_state=0)\n",
    "\n",
    "models = [lr,rf, mlp, nb, knn, sgd, svc, ridge, percep ,passive, ada, process, qda]"
   ]
  },
  {
   "cell_type": "code",
   "execution_count": 49,
   "metadata": {},
   "outputs": [
    {
     "name": "stderr",
     "output_type": "stream",
     "text": [
      "/Users/lingjie/opt/anaconda3/lib/python3.7/site-packages/sklearn/neural_network/multilayer_perceptron.py:566: ConvergenceWarning: Stochastic Optimizer: Maximum iterations (200) reached and the optimization hasn't converged yet.\n",
      "  % self.max_iter, ConvergenceWarning)\n",
      "/Users/lingjie/opt/anaconda3/lib/python3.7/site-packages/sklearn/neural_network/multilayer_perceptron.py:566: ConvergenceWarning: Stochastic Optimizer: Maximum iterations (200) reached and the optimization hasn't converged yet.\n",
      "  % self.max_iter, ConvergenceWarning)\n",
      "/Users/lingjie/opt/anaconda3/lib/python3.7/site-packages/sklearn/neural_network/multilayer_perceptron.py:566: ConvergenceWarning: Stochastic Optimizer: Maximum iterations (200) reached and the optimization hasn't converged yet.\n",
      "  % self.max_iter, ConvergenceWarning)\n",
      "/Users/lingjie/opt/anaconda3/lib/python3.7/site-packages/sklearn/neural_network/multilayer_perceptron.py:566: ConvergenceWarning: Stochastic Optimizer: Maximum iterations (200) reached and the optimization hasn't converged yet.\n",
      "  % self.max_iter, ConvergenceWarning)\n",
      "/Users/lingjie/opt/anaconda3/lib/python3.7/site-packages/sklearn/neural_network/multilayer_perceptron.py:566: ConvergenceWarning: Stochastic Optimizer: Maximum iterations (200) reached and the optimization hasn't converged yet.\n",
      "  % self.max_iter, ConvergenceWarning)\n",
      "/Users/lingjie/opt/anaconda3/lib/python3.7/site-packages/sklearn/discriminant_analysis.py:693: UserWarning: Variables are collinear\n",
      "  warnings.warn(\"Variables are collinear\")\n",
      "/Users/lingjie/opt/anaconda3/lib/python3.7/site-packages/sklearn/discriminant_analysis.py:693: UserWarning: Variables are collinear\n",
      "  warnings.warn(\"Variables are collinear\")\n",
      "/Users/lingjie/opt/anaconda3/lib/python3.7/site-packages/sklearn/discriminant_analysis.py:693: UserWarning: Variables are collinear\n",
      "  warnings.warn(\"Variables are collinear\")\n",
      "/Users/lingjie/opt/anaconda3/lib/python3.7/site-packages/sklearn/discriminant_analysis.py:693: UserWarning: Variables are collinear\n",
      "  warnings.warn(\"Variables are collinear\")\n",
      "/Users/lingjie/opt/anaconda3/lib/python3.7/site-packages/sklearn/discriminant_analysis.py:693: UserWarning: Variables are collinear\n",
      "  warnings.warn(\"Variables are collinear\")\n"
     ]
    },
    {
     "data": {
      "text/html": [
       "<div>\n",
       "<style scoped>\n",
       "    .dataframe tbody tr th:only-of-type {\n",
       "        vertical-align: middle;\n",
       "    }\n",
       "\n",
       "    .dataframe tbody tr th {\n",
       "        vertical-align: top;\n",
       "    }\n",
       "\n",
       "    .dataframe thead th {\n",
       "        text-align: right;\n",
       "    }\n",
       "</style>\n",
       "<table border=\"1\" class=\"dataframe\">\n",
       "  <thead>\n",
       "    <tr style=\"text-align: right;\">\n",
       "      <th></th>\n",
       "      <th>Model</th>\n",
       "      <th>Training_Score</th>\n",
       "    </tr>\n",
       "  </thead>\n",
       "  <tbody>\n",
       "    <tr>\n",
       "      <td>0</td>\n",
       "      <td>RandomForestClassifier</td>\n",
       "      <td>0.842753</td>\n",
       "    </tr>\n",
       "    <tr>\n",
       "      <td>1</td>\n",
       "      <td>SVC</td>\n",
       "      <td>0.835700</td>\n",
       "    </tr>\n",
       "    <tr>\n",
       "      <td>2</td>\n",
       "      <td>RidgeClassifier</td>\n",
       "      <td>0.832893</td>\n",
       "    </tr>\n",
       "    <tr>\n",
       "      <td>3</td>\n",
       "      <td>LogisticRegression</td>\n",
       "      <td>0.827249</td>\n",
       "    </tr>\n",
       "    <tr>\n",
       "      <td>4</td>\n",
       "      <td>MLPClassifier</td>\n",
       "      <td>0.821625</td>\n",
       "    </tr>\n",
       "    <tr>\n",
       "      <td>5</td>\n",
       "      <td>KNeighborsClassifier</td>\n",
       "      <td>0.820217</td>\n",
       "    </tr>\n",
       "    <tr>\n",
       "      <td>6</td>\n",
       "      <td>GaussianProcessClassifier</td>\n",
       "      <td>0.813174</td>\n",
       "    </tr>\n",
       "    <tr>\n",
       "      <td>7</td>\n",
       "      <td>AdaBoostClassifier</td>\n",
       "      <td>0.799159</td>\n",
       "    </tr>\n",
       "    <tr>\n",
       "      <td>8</td>\n",
       "      <td>SGDClassifier</td>\n",
       "      <td>0.745607</td>\n",
       "    </tr>\n",
       "    <tr>\n",
       "      <td>9</td>\n",
       "      <td>Perceptron</td>\n",
       "      <td>0.731809</td>\n",
       "    </tr>\n",
       "    <tr>\n",
       "      <td>10</td>\n",
       "      <td>PassiveAggressiveClassifier</td>\n",
       "      <td>0.704713</td>\n",
       "    </tr>\n",
       "    <tr>\n",
       "      <td>11</td>\n",
       "      <td>GaussianNB</td>\n",
       "      <td>0.649361</td>\n",
       "    </tr>\n",
       "    <tr>\n",
       "      <td>12</td>\n",
       "      <td>QuadraticDiscriminantAnalysis</td>\n",
       "      <td>0.567628</td>\n",
       "    </tr>\n",
       "  </tbody>\n",
       "</table>\n",
       "</div>"
      ],
      "text/plain": [
       "                            Model  Training_Score\n",
       "0          RandomForestClassifier        0.842753\n",
       "1                             SVC        0.835700\n",
       "2                 RidgeClassifier        0.832893\n",
       "3              LogisticRegression        0.827249\n",
       "4                   MLPClassifier        0.821625\n",
       "5            KNeighborsClassifier        0.820217\n",
       "6       GaussianProcessClassifier        0.813174\n",
       "7              AdaBoostClassifier        0.799159\n",
       "8                   SGDClassifier        0.745607\n",
       "9                      Perceptron        0.731809\n",
       "10    PassiveAggressiveClassifier        0.704713\n",
       "11                     GaussianNB        0.649361\n",
       "12  QuadraticDiscriminantAnalysis        0.567628"
      ]
     },
     "execution_count": 49,
     "metadata": {},
     "output_type": "execute_result"
    }
   ],
   "source": [
    "#model fitting using cross validation scoring\n",
    "#using accuracy as the scoring metric\n",
    "def get_score(model):\n",
    "    pipe = Pipeline([(\"Pre-processing\", ct),(\"Fit\",model)])\n",
    "    score = np.mean(cross_val_score(pipe, train_x, train_y ,cv=5))\n",
    "    return score\n",
    "\n",
    "scores = pd.DataFrame()\n",
    "\n",
    "for model in models:\n",
    "    score = get_score(model)\n",
    "    scores = scores.append([[type(model).__name__, score]])\n",
    "scores.rename(columns={0:\"Model\", 1:\"Training_Score\"}, inplace=True)\n",
    "scores.sort_values(by=\"Training_Score\", ascending=False, inplace=True)\n",
    "scores.reset_index(inplace=True, drop=True)\n",
    "scores"
   ]
  },
  {
   "cell_type": "code",
   "execution_count": 50,
   "metadata": {
    "scrolled": true
   },
   "outputs": [
    {
     "data": {
      "text/html": [
       "<div>\n",
       "<style scoped>\n",
       "    .dataframe tbody tr th:only-of-type {\n",
       "        vertical-align: middle;\n",
       "    }\n",
       "\n",
       "    .dataframe tbody tr th {\n",
       "        vertical-align: top;\n",
       "    }\n",
       "\n",
       "    .dataframe thead th {\n",
       "        text-align: right;\n",
       "    }\n",
       "</style>\n",
       "<table border=\"1\" class=\"dataframe\">\n",
       "  <thead>\n",
       "    <tr style=\"text-align: right;\">\n",
       "      <th></th>\n",
       "      <th>Model</th>\n",
       "      <th>Training_Score</th>\n",
       "    </tr>\n",
       "  </thead>\n",
       "  <tbody>\n",
       "    <tr>\n",
       "      <td>0</td>\n",
       "      <td>RandomForestClassifier</td>\n",
       "      <td>0.842753</td>\n",
       "    </tr>\n",
       "    <tr>\n",
       "      <td>1</td>\n",
       "      <td>SVC</td>\n",
       "      <td>0.835700</td>\n",
       "    </tr>\n",
       "    <tr>\n",
       "      <td>2</td>\n",
       "      <td>RidgeClassifier</td>\n",
       "      <td>0.832893</td>\n",
       "    </tr>\n",
       "    <tr>\n",
       "      <td>3</td>\n",
       "      <td>LogisticRegression</td>\n",
       "      <td>0.827249</td>\n",
       "    </tr>\n",
       "    <tr>\n",
       "      <td>4</td>\n",
       "      <td>MLPClassifier</td>\n",
       "      <td>0.821625</td>\n",
       "    </tr>\n",
       "  </tbody>\n",
       "</table>\n",
       "</div>"
      ],
      "text/plain": [
       "                    Model  Training_Score\n",
       "0  RandomForestClassifier        0.842753\n",
       "1                     SVC        0.835700\n",
       "2         RidgeClassifier        0.832893\n",
       "3      LogisticRegression        0.827249\n",
       "4           MLPClassifier        0.821625"
      ]
     },
     "execution_count": 50,
     "metadata": {},
     "output_type": "execute_result"
    }
   ],
   "source": [
    "#selecting only top 5 models\n",
    "scores.head(5)"
   ]
  },
  {
   "cell_type": "code",
   "execution_count": 51,
   "metadata": {},
   "outputs": [],
   "source": [
    "#fine tuning parameters\n",
    "def tune(model):\n",
    "    pipe = Pipeline([(\"Pre-processing\", ct),(\"Fit\",model)])\n",
    "    pipe.fit(train_x, train_y)\n",
    "    return model.best_estimator_"
   ]
  },
  {
   "cell_type": "code",
   "execution_count": 52,
   "metadata": {},
   "outputs": [
    {
     "data": {
      "text/plain": [
       "0.8426966292134831"
      ]
     },
     "execution_count": 52,
     "metadata": {},
     "output_type": "execute_result"
    }
   ],
   "source": [
    "#fine tuning parameters: random forest\n",
    "rf = RandomForestClassifier(random_state=0, n_jobs=-1)\n",
    "rf_params = [ {\"n_estimators\":np.arange(100,110,5).astype(int)} ]\n",
    "rf_search = GridSearchCV(rf, rf_params, cv=5)\n",
    "best_rf = tune(rf_search)\n",
    "rf_search.best_score_"
   ]
  },
  {
   "cell_type": "code",
   "execution_count": 41,
   "metadata": {},
   "outputs": [
    {
     "data": {
      "text/plain": [
       "0.8370786516853933"
      ]
     },
     "execution_count": 41,
     "metadata": {},
     "output_type": "execute_result"
    }
   ],
   "source": [
    "#fine tuning parameters: SVC\n",
    "svc = SVC(gamma=\"auto\", random_state=0)\n",
    "svc_params = [ {\"kernel\":[\"rbf\",\"linear\",\"poly\",\"sigmoid\"]} ]\n",
    "svc_search = GridSearchCV(svc,svc_params,cv=5)\n",
    "best_svc = tune(svc_search)\n",
    "svc_search.best_score_"
   ]
  },
  {
   "cell_type": "code",
   "execution_count": 11,
   "metadata": {},
   "outputs": [
    {
     "data": {
      "text/plain": [
       "0.8328651685393258"
      ]
     },
     "execution_count": 11,
     "metadata": {},
     "output_type": "execute_result"
    }
   ],
   "source": [
    "#fine tuning parameters: Ridge\n",
    "ridge = RidgeClassifier(random_state=0)\n",
    "ridge_params = [ {\"alpha\":np.arange(1,1000,5).astype(float)}, {} ]\n",
    "ridge_search = GridSearchCV(ridge, ridge_params, cv=5)\n",
    "best_ridge = tune(ridge_search)\n",
    "ridge_search.best_score_"
   ]
  },
  {
   "cell_type": "code",
   "execution_count": 12,
   "metadata": {},
   "outputs": [
    {
     "name": "stderr",
     "output_type": "stream",
     "text": [
      "/Users/lingjie/opt/anaconda3/lib/python3.7/site-packages/sklearn/linear_model/logistic.py:947: ConvergenceWarning: lbfgs failed to converge. Increase the number of iterations.\n",
      "  \"of iterations.\", ConvergenceWarning)\n",
      "/Users/lingjie/opt/anaconda3/lib/python3.7/site-packages/sklearn/linear_model/logistic.py:947: ConvergenceWarning: lbfgs failed to converge. Increase the number of iterations.\n",
      "  \"of iterations.\", ConvergenceWarning)\n",
      "/Users/lingjie/opt/anaconda3/lib/python3.7/site-packages/sklearn/linear_model/logistic.py:947: ConvergenceWarning: lbfgs failed to converge. Increase the number of iterations.\n",
      "  \"of iterations.\", ConvergenceWarning)\n"
     ]
    },
    {
     "data": {
      "text/plain": [
       "0.827247191011236"
      ]
     },
     "execution_count": 12,
     "metadata": {},
     "output_type": "execute_result"
    }
   ],
   "source": [
    "#fine tuning parameters: log regression\n",
    "lr = LogisticRegression(random_state=0)\n",
    "lr_params = [ {\"penalty\":[\"l2\",\"none\"], \"solver\":[\"lbfgs\"]},\n",
    "            {\"penalty\":[\"l1\",\"l2\"], \"solver\":[\"liblinear\"]},]\n",
    "lr_search = GridSearchCV(lr, lr_params, cv=5)\n",
    "best_lr = tune(lr_search)\n",
    "lr_search.best_score_"
   ]
  },
  {
   "cell_type": "code",
   "execution_count": 61,
   "metadata": {
    "scrolled": true
   },
   "outputs": [
    {
     "name": "stderr",
     "output_type": "stream",
     "text": [
      "/Users/lingjie/opt/anaconda3/lib/python3.7/site-packages/sklearn/neural_network/multilayer_perceptron.py:566: ConvergenceWarning: Stochastic Optimizer: Maximum iterations (200) reached and the optimization hasn't converged yet.\n",
      "  % self.max_iter, ConvergenceWarning)\n",
      "/Users/lingjie/opt/anaconda3/lib/python3.7/site-packages/sklearn/neural_network/multilayer_perceptron.py:566: ConvergenceWarning: Stochastic Optimizer: Maximum iterations (200) reached and the optimization hasn't converged yet.\n",
      "  % self.max_iter, ConvergenceWarning)\n",
      "/Users/lingjie/opt/anaconda3/lib/python3.7/site-packages/sklearn/neural_network/multilayer_perceptron.py:566: ConvergenceWarning: Stochastic Optimizer: Maximum iterations (200) reached and the optimization hasn't converged yet.\n",
      "  % self.max_iter, ConvergenceWarning)\n",
      "/Users/lingjie/opt/anaconda3/lib/python3.7/site-packages/sklearn/neural_network/multilayer_perceptron.py:566: ConvergenceWarning: Stochastic Optimizer: Maximum iterations (200) reached and the optimization hasn't converged yet.\n",
      "  % self.max_iter, ConvergenceWarning)\n",
      "/Users/lingjie/opt/anaconda3/lib/python3.7/site-packages/sklearn/neural_network/multilayer_perceptron.py:566: ConvergenceWarning: Stochastic Optimizer: Maximum iterations (200) reached and the optimization hasn't converged yet.\n",
      "  % self.max_iter, ConvergenceWarning)\n",
      "/Users/lingjie/opt/anaconda3/lib/python3.7/site-packages/sklearn/neural_network/multilayer_perceptron.py:566: ConvergenceWarning: Stochastic Optimizer: Maximum iterations (200) reached and the optimization hasn't converged yet.\n",
      "  % self.max_iter, ConvergenceWarning)\n",
      "/Users/lingjie/opt/anaconda3/lib/python3.7/site-packages/sklearn/neural_network/multilayer_perceptron.py:566: ConvergenceWarning: Stochastic Optimizer: Maximum iterations (200) reached and the optimization hasn't converged yet.\n",
      "  % self.max_iter, ConvergenceWarning)\n",
      "/Users/lingjie/opt/anaconda3/lib/python3.7/site-packages/sklearn/neural_network/multilayer_perceptron.py:566: ConvergenceWarning: Stochastic Optimizer: Maximum iterations (200) reached and the optimization hasn't converged yet.\n",
      "  % self.max_iter, ConvergenceWarning)\n",
      "/Users/lingjie/opt/anaconda3/lib/python3.7/site-packages/sklearn/neural_network/multilayer_perceptron.py:566: ConvergenceWarning: Stochastic Optimizer: Maximum iterations (200) reached and the optimization hasn't converged yet.\n",
      "  % self.max_iter, ConvergenceWarning)\n",
      "/Users/lingjie/opt/anaconda3/lib/python3.7/site-packages/sklearn/neural_network/multilayer_perceptron.py:566: ConvergenceWarning: Stochastic Optimizer: Maximum iterations (200) reached and the optimization hasn't converged yet.\n",
      "  % self.max_iter, ConvergenceWarning)\n",
      "/Users/lingjie/opt/anaconda3/lib/python3.7/site-packages/sklearn/neural_network/multilayer_perceptron.py:566: ConvergenceWarning: Stochastic Optimizer: Maximum iterations (200) reached and the optimization hasn't converged yet.\n",
      "  % self.max_iter, ConvergenceWarning)\n",
      "/Users/lingjie/opt/anaconda3/lib/python3.7/site-packages/sklearn/neural_network/multilayer_perceptron.py:566: ConvergenceWarning: Stochastic Optimizer: Maximum iterations (200) reached and the optimization hasn't converged yet.\n",
      "  % self.max_iter, ConvergenceWarning)\n",
      "/Users/lingjie/opt/anaconda3/lib/python3.7/site-packages/sklearn/neural_network/multilayer_perceptron.py:566: ConvergenceWarning: Stochastic Optimizer: Maximum iterations (200) reached and the optimization hasn't converged yet.\n",
      "  % self.max_iter, ConvergenceWarning)\n",
      "/Users/lingjie/opt/anaconda3/lib/python3.7/site-packages/sklearn/neural_network/multilayer_perceptron.py:566: ConvergenceWarning: Stochastic Optimizer: Maximum iterations (200) reached and the optimization hasn't converged yet.\n",
      "  % self.max_iter, ConvergenceWarning)\n",
      "/Users/lingjie/opt/anaconda3/lib/python3.7/site-packages/sklearn/neural_network/multilayer_perceptron.py:566: ConvergenceWarning: Stochastic Optimizer: Maximum iterations (200) reached and the optimization hasn't converged yet.\n",
      "  % self.max_iter, ConvergenceWarning)\n"
     ]
    },
    {
     "data": {
      "text/plain": [
       "0.8300561797752809"
      ]
     },
     "execution_count": 61,
     "metadata": {},
     "output_type": "execute_result"
    }
   ],
   "source": [
    "#fine tuning parameters: MLP\n",
    "mlp = MLPClassifier(random_state=0)\n",
    "mlp_params = [ {\"activation\":['identity', 'logistic', 'tanh', 'relu']} ]\n",
    "mlp_search = GridSearchCV(mlp,mlp_params,cv=5)\n",
    "best_mlp = tune(mlp_search)\n",
    "mlp_search.best_score_"
   ]
  },
  {
   "cell_type": "code",
   "execution_count": 63,
   "metadata": {},
   "outputs": [
    {
     "name": "stderr",
     "output_type": "stream",
     "text": [
      "/Users/lingjie/opt/anaconda3/lib/python3.7/site-packages/sklearn/neural_network/multilayer_perceptron.py:566: ConvergenceWarning: Stochastic Optimizer: Maximum iterations (200) reached and the optimization hasn't converged yet.\n",
      "  % self.max_iter, ConvergenceWarning)\n"
     ]
    },
    {
     "data": {
      "text/html": [
       "<div>\n",
       "<style scoped>\n",
       "    .dataframe tbody tr th:only-of-type {\n",
       "        vertical-align: middle;\n",
       "    }\n",
       "\n",
       "    .dataframe tbody tr th {\n",
       "        vertical-align: top;\n",
       "    }\n",
       "\n",
       "    .dataframe thead th {\n",
       "        text-align: right;\n",
       "    }\n",
       "</style>\n",
       "<table border=\"1\" class=\"dataframe\">\n",
       "  <thead>\n",
       "    <tr style=\"text-align: right;\">\n",
       "      <th></th>\n",
       "      <th>Model</th>\n",
       "      <th>Test_Score</th>\n",
       "    </tr>\n",
       "  </thead>\n",
       "  <tbody>\n",
       "    <tr>\n",
       "      <td>0</td>\n",
       "      <td>LogisticRegression</td>\n",
       "      <td>0.798883</td>\n",
       "    </tr>\n",
       "    <tr>\n",
       "      <td>1</td>\n",
       "      <td>SVC</td>\n",
       "      <td>0.798883</td>\n",
       "    </tr>\n",
       "    <tr>\n",
       "      <td>2</td>\n",
       "      <td>RandomForestClassifier</td>\n",
       "      <td>0.793296</td>\n",
       "    </tr>\n",
       "    <tr>\n",
       "      <td>3</td>\n",
       "      <td>RidgeClassifier</td>\n",
       "      <td>0.793296</td>\n",
       "    </tr>\n",
       "    <tr>\n",
       "      <td>4</td>\n",
       "      <td>MLPClassifier</td>\n",
       "      <td>0.787709</td>\n",
       "    </tr>\n",
       "  </tbody>\n",
       "</table>\n",
       "</div>"
      ],
      "text/plain": [
       "                    Model  Test_Score\n",
       "0      LogisticRegression    0.798883\n",
       "1                     SVC    0.798883\n",
       "2  RandomForestClassifier    0.793296\n",
       "3         RidgeClassifier    0.793296\n",
       "4           MLPClassifier    0.787709"
      ]
     },
     "execution_count": 63,
     "metadata": {},
     "output_type": "execute_result"
    }
   ],
   "source": [
    "#get prediction score and predictions\n",
    "def get_predict(model):\n",
    "    pipe = Pipeline([(\"Pre-processing\", ct),(\"Fit\",model)])\n",
    "    pipe.fit(train_x, train_y)\n",
    "    score = pipe.score(test_x, test_y)\n",
    "    predictions = pipe.predict(test_x)\n",
    "    return (score, predictions)\n",
    "\n",
    "#the best models\n",
    "best_models = [best_rf, best_ridge, best_lr, best_svc, best_mlp]\n",
    "\n",
    "best_scores = pd.DataFrame()\n",
    "best_predictions = pd.DataFrame()\n",
    "\n",
    "for model in best_models:\n",
    "    score, predictions = get_predict(model)\n",
    "    best_scores = best_scores.append([[type(model).__name__, score]])\n",
    "    best_predictions = best_predictions.append( [[predictions]] )\n",
    "\n",
    "best_predictions = best_predictions.T\n",
    "    \n",
    "best_scores.rename(columns={0:\"Model\", 1:\"Test_Score\"}, inplace=True)\n",
    "best_scores.sort_values(by=\"Test_Score\", ascending=False, inplace=True)\n",
    "best_scores.reset_index(inplace=True, drop=True)\n",
    "best_scores"
   ]
  },
  {
   "cell_type": "code",
   "execution_count": 64,
   "metadata": {},
   "outputs": [
    {
     "data": {
      "text/plain": [
       "0.8044692737430168"
      ]
     },
     "execution_count": 64,
     "metadata": {},
     "output_type": "execute_result"
    }
   ],
   "source": [
    "#votting ensemble to decide best outcome\n",
    "vote = pd.array(best_predictions.apply(lambda x: np.where(np.mean(x) > 0.5,1,0),axis=1)[0]).astype(int)\n",
    "\n",
    "#score of votting ensemble\n",
    "np.mean(vote==test_y)"
   ]
  },
  {
   "cell_type": "code",
   "execution_count": 65,
   "metadata": {},
   "outputs": [
    {
     "name": "stderr",
     "output_type": "stream",
     "text": [
      "/Users/lingjie/opt/anaconda3/lib/python3.7/site-packages/sklearn/neural_network/multilayer_perceptron.py:566: ConvergenceWarning: Stochastic Optimizer: Maximum iterations (200) reached and the optimization hasn't converged yet.\n",
      "  % self.max_iter, ConvergenceWarning)\n"
     ]
    }
   ],
   "source": [
    "## for submission\n",
    "\n",
    "#Prediction using votting ensemble\n",
    "def get_submit(model):\n",
    "    pipe = Pipeline([(\"Pre-processing\", ct),(\"Fit\",model)])\n",
    "    pipe.fit(train_cleaned.drop(\"Survived\",axis=1), train_cleaned[\"Survived\"])\n",
    "    predictions = pipe.predict(submission_cleaned)\n",
    "    return predictions\n",
    "\n",
    "submit_vote = pd.DataFrame()\n",
    "\n",
    "for model in best_models:\n",
    "    prediction = get_submit(model)\n",
    "    submit_vote = submit_vote.append( [[prediction]] )\n",
    "\n",
    "submit_vote = submit_vote.T\n",
    "vote_results = pd.array(submit_vote.apply(lambda x: np.where(np.mean(x) > 0.5,1,0),axis=1)[0]).astype(int)"
   ]
  },
  {
   "cell_type": "code",
   "execution_count": 66,
   "metadata": {},
   "outputs": [],
   "source": [
    "## for submission\n",
    "\n",
    "#save predictions\n",
    "submit = pd.DataFrame([submission_cleaned[\"PassengerId\"],vote_results], index=['PassengerId','Survived']).T\n",
    "submit.to_csv('submission.csv', index=False)"
   ]
  },
  {
   "cell_type": "code",
   "execution_count": 67,
   "metadata": {},
   "outputs": [
    {
     "data": {
      "text/html": [
       "<div>\n",
       "<style scoped>\n",
       "    .dataframe tbody tr th:only-of-type {\n",
       "        vertical-align: middle;\n",
       "    }\n",
       "\n",
       "    .dataframe tbody tr th {\n",
       "        vertical-align: top;\n",
       "    }\n",
       "\n",
       "    .dataframe thead th {\n",
       "        text-align: right;\n",
       "    }\n",
       "</style>\n",
       "<table border=\"1\" class=\"dataframe\">\n",
       "  <thead>\n",
       "    <tr style=\"text-align: right;\">\n",
       "      <th></th>\n",
       "      <th>PassengerId</th>\n",
       "      <th>Survived</th>\n",
       "    </tr>\n",
       "  </thead>\n",
       "  <tbody>\n",
       "    <tr>\n",
       "      <td>0</td>\n",
       "      <td>892</td>\n",
       "      <td>0</td>\n",
       "    </tr>\n",
       "    <tr>\n",
       "      <td>1</td>\n",
       "      <td>893</td>\n",
       "      <td>1</td>\n",
       "    </tr>\n",
       "    <tr>\n",
       "      <td>2</td>\n",
       "      <td>894</td>\n",
       "      <td>0</td>\n",
       "    </tr>\n",
       "    <tr>\n",
       "      <td>3</td>\n",
       "      <td>895</td>\n",
       "      <td>0</td>\n",
       "    </tr>\n",
       "    <tr>\n",
       "      <td>4</td>\n",
       "      <td>896</td>\n",
       "      <td>1</td>\n",
       "    </tr>\n",
       "  </tbody>\n",
       "</table>\n",
       "</div>"
      ],
      "text/plain": [
       "   PassengerId  Survived\n",
       "0          892         0\n",
       "1          893         1\n",
       "2          894         0\n",
       "3          895         0\n",
       "4          896         1"
      ]
     },
     "execution_count": 67,
     "metadata": {},
     "output_type": "execute_result"
    }
   ],
   "source": [
    "submit.head()"
   ]
  },
  {
   "cell_type": "code",
   "execution_count": null,
   "metadata": {},
   "outputs": [],
   "source": []
  }
 ],
 "metadata": {
  "kernelspec": {
   "display_name": "Python 3",
   "language": "python",
   "name": "python3"
  },
  "language_info": {
   "codemirror_mode": {
    "name": "ipython",
    "version": 3
   },
   "file_extension": ".py",
   "mimetype": "text/x-python",
   "name": "python",
   "nbconvert_exporter": "python",
   "pygments_lexer": "ipython3",
   "version": "3.7.4"
  }
 },
 "nbformat": 4,
 "nbformat_minor": 4
}
